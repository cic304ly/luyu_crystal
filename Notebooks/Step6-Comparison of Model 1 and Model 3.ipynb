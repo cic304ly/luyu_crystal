{
 "cells": [
  {
   "cell_type": "markdown",
   "metadata": {},
   "source": [
    "<h3>This script corresponds to the \"Comparison of Model 1 and Model 3\" section of our manuscript.</h3>"
   ]
  },
  {
   "cell_type": "code",
   "execution_count": 1,
   "metadata": {},
   "outputs": [],
   "source": [
    "import re, os, sys\n",
    "import numpy as np\n",
    "from matplotlib_venn import venn2\n",
    "import matplotlib.pyplot as plt\n",
    "import matplotlib.patheffects as path_effects\n",
    "import pandas as pd"
   ]
  },
  {
   "cell_type": "markdown",
   "metadata": {},
   "source": [
    "<t4>load the most important features of Model 1 and Model 3. These important features are identified by gap finding.</t4>"
   ]
  },
  {
   "cell_type": "code",
   "execution_count": 2,
   "metadata": {},
   "outputs": [],
   "source": [
    "file1 = pd.read_csv(\"../Contribution of individual features/13_impor_features.csv\",sep = \",\",usecols = [2])   \n",
    "file2 = pd.read_csv(\"../Contribution of individual features/19_impor_features.csv\",sep = \",\",usecols = [2])   \n",
    "df_li1 = file1.values.tolist()\n",
    "df_li2 = file2.values.tolist()\n",
    "result1 = []\n",
    "result2 = []\n",
    "for s_li1 in df_li1:\n",
    "    result1.append(s_li1[0])\n",
    "for s_li2 in df_li2:\n",
    "    result2.append(s_li2[0])\n",
    "three_datasets_important_features = set(result1)\n",
    "ClinVar_dataset_important_features = set(result2)"
   ]
  },
  {
   "cell_type": "markdown",
   "metadata": {},
   "source": [
    "<t4>Below is a Venn plot of relationship between the two groups of important features.</t4>"
   ]
  },
  {
   "cell_type": "code",
   "execution_count": 3,
   "metadata": {},
   "outputs": [
    {
     "data": {
      "text/plain": [
       "<matplotlib_venn._common.VennDiagram at 0x24d00d1ca90>"
      ]
     },
     "execution_count": 3,
     "metadata": {},
     "output_type": "execute_result"
    },
    {
     "data": {
      "image/png": "[encoded data removed]",
      "text/plain": [
       "<Figure size 108x108 with 1 Axes>"
      ]
     },
     "metadata": {},
     "output_type": "display_data"
    }
   ],
   "source": [
    "plt.figure(figsize=(1.5,1.5))\n",
    "venn2([three_datasets_important_features, ClinVar_dataset_important_features],set_labels=('', ''),set_colors = (\"blue\",\"red\"))"
   ]
  }
 ],
 "metadata": {
  "kernelspec": {
   "display_name": "Python 3",
   "language": "python",
   "name": "python3"
  },
  "language_info": {
   "codemirror_mode": {
    "name": "ipython",
    "version": 3
   },
   "file_extension": ".py",
   "mimetype": "text/x-python",
   "name": "python",
   "nbconvert_exporter": "python",
   "pygments_lexer": "ipython3",
   "version": "3.6.5"
  }
 },
 "nbformat": 4,
 "nbformat_minor": 2
}
