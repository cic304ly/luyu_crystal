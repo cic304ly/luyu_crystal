{
 "cells": [
  {
   "cell_type": "markdown",
   "metadata": {},
   "source": [
    "<h3>This script corresponds to the \"Modeling method and running environment\" section of our manuscript</h3>"
   ]
  },
  {
   "cell_type": "code",
   "execution_count": 1,
   "metadata": {},
   "outputs": [],
   "source": [
    "import numpy as np\n",
    "import matplotlib.pyplot as plt"
   ]
  },
  {
   "cell_type": "code",
   "execution_count": 2,
   "metadata": {},
   "outputs": [],
   "source": [
    "N_trees = np.arange(100,1001,100)"
   ]
  },
  {
   "cell_type": "code",
   "execution_count": 3,
   "metadata": {},
   "outputs": [],
   "source": [
    "AUCs = [0.875, 0.877, 0.877, 0.879, 0.8785, 0.878, 0.878, 0.877, 0.876, 0.876]"
   ]
  },
  {
   "cell_type": "code",
   "execution_count": 4,
   "metadata": {},
   "outputs": [
    {
     "data": {
      "image/png": "[encoded data removed]",
      "text/plain": [
       "<Figure size 432x288 with 1 Axes>"
      ]
     },
     "metadata": {
      "needs_background": "light"
     },
     "output_type": "display_data"
    }
   ],
   "source": [
    "plt.bar(range(len(N_trees)),AUCs,width=0.3,align = \"center\",color = \"steelblue\",alpha = 0.8)\n",
    "plt.xticks(range(len(N_trees)),[str(m) for m in N_trees])\n",
    "plt.xlabel(\"Number of trees\",fontdict={'family' : 'Times New Roman', 'size'   : 12})\n",
    "plt.ylabel(\"AUC of the training set\",fontdict={'family' : 'Times New Roman', 'size'   : 12})\n",
    "plt.yticks(fontproperties = 'Times New Roman', size = 10)\n",
    "plt.xticks(fontproperties = 'Times New Roman', size = 10)\n",
    "plt.ylim(0.873,0.88)\n",
    "plt.show()"
   ]
  }
 ],
 "metadata": {
  "kernelspec": {
   "display_name": "Python 3",
   "language": "python",
   "name": "python3"
  },
  "language_info": {
   "codemirror_mode": {
    "name": "ipython",
    "version": 3
   },
   "file_extension": ".py",
   "mimetype": "text/x-python",
   "name": "python",
   "nbconvert_exporter": "python",
   "pygments_lexer": "ipython3",
   "version": "3.6.5"
  }
 },
 "nbformat": 4,
 "nbformat_minor": 2
}
