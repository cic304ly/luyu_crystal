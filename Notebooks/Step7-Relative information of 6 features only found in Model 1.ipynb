{
 "cells": [
  {
   "cell_type": "markdown",
   "metadata": {},
   "source": [
    "<h3>Here we need to use one file (i.e. \"19_impor_features.csv\") and this script corresponds to \"Table 4\" in our manuscript.</h3>"
   ]
  },
  {
   "cell_type": "code",
   "execution_count": 1,
   "metadata": {},
   "outputs": [],
   "source": [
    "import re, os, sys\n",
    "import numpy as np\n",
    "import pandas as pd"
   ]
  },
  {
   "cell_type": "markdown",
   "metadata": {},
   "source": [
    "<h4>We select the important features and their Gini importance from \"19_impor_features.csv\" and store these information in a dictionary.</h4>"
   ]
  },
  {
   "cell_type": "code",
   "execution_count": 2,
   "metadata": {},
   "outputs": [],
   "source": [
    "FuncDict = {}\n",
    "##FuncDict:key is features name, and the value is a array of Gini importance in the five training sets.\n",
    "f = open(\"../Contribution of individual features/19_impor_features.csv\",'rt')\n",
    "for line in f:\n",
    "    line = line.strip()\n",
    "    if line.startswith(\"#\"):\n",
    "        continue\n",
    "    li = re.split(\"\\,\",line)\n",
    "    Gini_value = float(li[1])\n",
    "    features = li[-1]\n",
    "    if not features in FuncDict:\n",
    "        FuncDict[features] = np.array([],dtype = float)\n",
    "    FuncDict[features] = np.r_[FuncDict[features],Gini_value]"
   ]
  },
  {
   "cell_type": "code",
   "execution_count": 3,
   "metadata": {},
   "outputs": [
    {
     "name": "stdout",
     "output_type": "stream",
     "text": [
      "The average Gini importance of phastCons46way vertebrate elements in Model 1 is 0.063\n",
      "The average Gini importance of phastCons100way vertebrate elements in Model 1 is 0.052\n",
      "The average Gini importance of phastCons46way mammal elements in Model 1 is 0.051\n",
      "The average Gini importance of GERP elements in Model 1 is 0.021\n",
      "The average Gini importance of SiPhy elements in Model 1 is 0.023\n",
      "The average Gini importance of phastCons46way primate elements in Model 1 is 0.017\n"
     ]
    }
   ],
   "source": [
    "##The phastCons46way vertebrate elements, phastCons100way vertebrate elements, phastCons46way mammal elements, GERP elements, SiPhy elements, and phastCons46way primate elements were found only in Model 1.\n",
    "FuncAvgDict = {}\n",
    "##FuncAvgDict: the value is the average of Gini importance in the five training sets.\n",
    "for i in FuncDict:\n",
    "    if not i in FuncAvgDict:\n",
    "        FuncAvgDict[i] = 0\n",
    "    FuncAvgDict[i] += np.mean(FuncDict[i])\n",
    "print(\"The average Gini importance of phastCons46way vertebrate elements in Model 1 is %.3f%sThe average Gini importance of phastCons100way vertebrate elements in Model 1 is %.3f%sThe average Gini importance of phastCons46way mammal elements in Model 1 is %.3f%sThe average Gini importance of GERP elements in Model 1 is %.3f%sThe average Gini importance of SiPhy elements in Model 1 is %.3f%sThe average Gini importance of phastCons46way primate elements in Model 1 is %.3f\"%\n",
    "      (FuncAvgDict[\"PhastCons46way vertebrate elements\"],\"\\n\",FuncAvgDict[\"PhastCons100way vertebrate elements\"],\"\\n\",FuncAvgDict[\"PhastCons46way mammal elements\"],\"\\n\",FuncAvgDict[\"GERP elements\"],\"\\n\",FuncAvgDict[\"SiPhy elements\"],\"\\n\",FuncAvgDict[\"PhastCons46way primate elements\"]))   "
   ]
  }
 ],
 "metadata": {
  "kernelspec": {
   "display_name": "Python 3",
   "language": "python",
   "name": "python3"
  },
  "language_info": {
   "codemirror_mode": {
    "name": "ipython",
    "version": 3
   },
   "file_extension": ".py",
   "mimetype": "text/x-python",
   "name": "python",
   "nbconvert_exporter": "python",
   "pygments_lexer": "ipython3",
   "version": "3.6.5"
  }
 },
 "nbformat": 4,
 "nbformat_minor": 2
}
